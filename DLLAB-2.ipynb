{
 "cells": [
  {
   "cell_type": "code",
   "execution_count": 1,
   "metadata": {},
   "outputs": [
    {
     "name": "stdout",
     "output_type": "stream",
     "text": [
      "40\n"
     ]
    }
   ],
   "source": [
    "a =10 \n",
    "b =30\n",
    "print(a+b)"
   ]
  },
  {
   "cell_type": "code",
   "execution_count": 2,
   "metadata": {},
   "outputs": [
    {
     "name": "stdout",
     "output_type": "stream",
     "text": [
      "shakespeare gave the best theatrics  the world\n"
     ]
    }
   ],
   "source": [
    "a = 'shakespeare gave the best theatrics  the world'\n",
    "print(a)"
   ]
  },
  {
   "cell_type": "code",
   "execution_count": 3,
   "metadata": {},
   "outputs": [
    {
     "name": "stdout",
     "output_type": "stream",
     "text": [
      "In the early 18th century, Danish explorers reached Greenland again. To strengthen trading and power, Denmark–Norway affirmed sovereignty over the island. Because of Norway's weak status, it lost sovereignty over Greenland in 1814 when the union was dissolved. Greenland became Danish in 1814, and was fully integrated in the Danish state in 1953 under the Constitution of Denmark. In 1973, Greenland joined the European Economic Community with Denmark. However, in a referendum in 1982, a majority of the population voted for Greenland to withdraw from the EEC, which was effected in 1985. Greenland contains the world's largest and most northerly national park, Northeast Greenland National Park (Kalaallit Nunaanni nuna eqqissisimatitaq). Established in 1974, and expanded to its present size in 1988, it protects 972,001 square kilometres (375,292 sq mi) of the interior and northeastern coast of Greenland and is bigger than all but twenty-nine countries in the world.\n"
     ]
    }
   ],
   "source": [
    "a = \"\"\"In the early 18th century, Danish explorers reached Greenland again. To strengthen trading and power, Denmark–Norway affirmed sovereignty over the island. Because of Norway's weak status, it lost sovereignty over Greenland in 1814 when the union was dissolved. Greenland became Danish in 1814, and was fully integrated in the Danish state in 1953 under the Constitution of Denmark. In 1973, Greenland joined the European Economic Community with Denmark. However, in a referendum in 1982, a majority of the population voted for Greenland to withdraw from the EEC, which was effected in 1985. Greenland contains the world's largest and most northerly national park, Northeast Greenland National Park (Kalaallit Nunaanni nuna eqqissisimatitaq). Established in 1974, and expanded to its present size in 1988, it protects 972,001 square kilometres (375,292 sq mi) of the interior and northeastern coast of Greenland and is bigger than all but twenty-nine countries in the world.\"\"\"\n",
    "print(a)"
   ]
  },
  {
   "cell_type": "code",
   "execution_count": 4,
   "metadata": {},
   "outputs": [
    {
     "name": "stdout",
     "output_type": "stream",
     "text": [
      "['London', 'paris', 'milan', 'barcelona', 'amsterdam', ' manchester', 'cardiff', 'glasgow', 'pitsburg', 'italy', 'Tuscany']\n"
     ]
    }
   ],
   "source": [
    "a = ['London', 'paris', 'milan', 'barcelona', 'amsterdam',' manchester', 'cardiff', 'glasgow', 'pitsburg', 'italy']\n",
    "a.append('Tuscany')\n",
    "print(a)"
   ]
  },
  {
   "cell_type": "code",
   "execution_count": 5,
   "metadata": {},
   "outputs": [
    {
     "name": "stdout",
     "output_type": "stream",
     "text": [
      "{'cricket': 'mithali raj', 'batminton': 'pv sindhu', 'tennis': 'paaes', 'chess': 'carlsen'}\n"
     ]
    }
   ],
   "source": [
    "sports = {\n",
    "    \"cricket\": \"virat kohli\",\n",
    "    \"cricket\" : \"mithali raj\",\n",
    "    \"batminton\" : \"pv sindhu\",\n",
    "    \"tennis\": \"paaes\",\n",
    "    \"chess\" : \"carlsen\"\n",
    "}\n",
    "print(sports)"
   ]
  },
  {
   "cell_type": "code",
   "execution_count": 6,
   "metadata": {},
   "outputs": [
    {
     "name": "stdout",
     "output_type": "stream",
     "text": [
      "(101, 102, 103, 104, 105, 'sjt-block')\n"
     ]
    }
   ],
   "source": [
    "t = 101, 102, 103, 104, 105, 'sjt-block'\n",
    "print(t)"
   ]
  },
  {
   "cell_type": "code",
   "execution_count": 8,
   "metadata": {},
   "outputs": [
    {
     "name": "stdout",
     "output_type": "stream",
     "text": [
      "103\n"
     ]
    }
   ],
   "source": [
    "p, q, r, s, t = 101, 102, 103, 104, 105\n",
    "print(r)"
   ]
  },
  {
   "cell_type": "code",
   "execution_count": 9,
   "metadata": {},
   "outputs": [
    {
     "name": "stdout",
     "output_type": "stream",
     "text": [
      "Enter the value:2\n",
      "14\n"
     ]
    }
   ],
   "source": [
    "a = int(input(\"Enter the value:\"))\n",
    "v = (a+(a*a)+(a*a*a))\n",
    "print(v)"
   ]
  },
  {
   "cell_type": "code",
   "execution_count": 10,
   "metadata": {},
   "outputs": [
    {
     "name": "stdout",
     "output_type": "stream",
     "text": [
      "[1]\n",
      "[1]\n",
      "[2]\n",
      "[3]\n",
      "[1, 1, 2, 3]\n"
     ]
    }
   ],
   "source": [
    "a = [1, 1, 2, 3, 5, 8, 13, 21, 34, 55, 89]\n",
    "for i in a:\n",
    "    if i < 5:\n",
    "        print([i])\n",
    "print([num for num in a if num<5])"
   ]
  },
  {
   "cell_type": "code",
   "execution_count": 16,
   "metadata": {},
   "outputs": [
    {
     "name": "stdout",
     "output_type": "stream",
     "text": [
      "Enter the number you to find divisor for:15\n",
      "[1, 3, 5, 15]\n"
     ]
    }
   ],
   "source": [
    "\"\"\"Create a program that asks the user for a number and then prints out a list of all the divisors of that number\"\"\"\n",
    "p = int(input(\"Enter the number you to find divisor for:\"))\n",
    "num_div = []\n",
    "for i in a:\n",
    "    if p%i==0:\n",
    "        num_div.append(i)\n",
    "print(num_div)"
   ]
  },
  {
   "cell_type": "code",
   "execution_count": 12,
   "metadata": {},
   "outputs": [
    {
     "name": "stdout",
     "output_type": "stream",
     "text": [
      "[1, 1, 2, 3, 5, 8, 13]\n"
     ]
    }
   ],
   "source": [
    "\"\"\"write a program that returns a list that contains only the elements that are common between the lists\"\"\"\n",
    "a = [1, 1, 2, 3, 5, 8, 13, 21, 34, 55, 89]\n",
    "b = [1, 2, 3, 4, 5, 6, 7, 8, 9, 10, 11, 12, 13]\n",
    "p = []\n",
    "for x in a:\n",
    "    if x in b:\n",
    "        p.append(x)\n",
    "print(p)"
   ]
  },
  {
   "cell_type": "code",
   "execution_count": 19,
   "metadata": {},
   "outputs": [
    {
     "name": "stdout",
     "output_type": "stream",
     "text": [
      "4321\n"
     ]
    }
   ],
   "source": [
    "a = '1234'\n",
    "print(a[::-1])"
   ]
  },
  {
   "cell_type": "code",
   "execution_count": null,
   "metadata": {},
   "outputs": [],
   "source": []
  }
 ],
 "metadata": {
  "kernelspec": {
   "display_name": "Python 3",
   "language": "python",
   "name": "python3"
  },
  "language_info": {
   "codemirror_mode": {
    "name": "ipython",
    "version": 3
   },
   "file_extension": ".py",
   "mimetype": "text/x-python",
   "name": "python",
   "nbconvert_exporter": "python",
   "pygments_lexer": "ipython3",
   "version": "3.7.3"
  }
 },
 "nbformat": 4,
 "nbformat_minor": 2
}
